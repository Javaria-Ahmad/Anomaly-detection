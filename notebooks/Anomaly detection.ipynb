{
 "cells": [
  {
   "cell_type": "markdown",
   "metadata": {},
   "source": [
    "# Javaria Ahmad 3001059\n",
    "\n",
    "The goal of this project is to use anomaly detection models for finding anomalies in this data set. This is unsupervised machine learning. Real traffic dataset was used from https://www.kaggle.com/boltzmannbrain/nab. This dataset has speeds for vehicles captured  by different sensors. Anomalies in speeding data was found, or in other words, speeding violators were spotted.\n",
    "\n",
    "\n",
    "To find anomalies, two approaches from sklearn were used: Isolation Forest and Local Outlier Factor. The results were obtained and compared from these two approaches.\n",
    "\n",
    "References used: youtube.com/watch?v=gCWBFyFTxVU\n"
   ]
  },
  {
   "cell_type": "code",
   "execution_count": 161,
   "metadata": {},
   "outputs": [],
   "source": [
    "# imports\n",
    "\n",
    "%matplotlib inline\n",
    "\n",
    "import sys\n",
    "import numpy as np\n",
    "from scipy import stats\n",
    "import pandas as pd\n",
    "import os\n",
    "import matplotlib\n",
    "import matplotlib.pyplot as plt\n",
    "import sklearn\n",
    "from sklearn import metrics\n",
    "from sklearn.cluster import KMeans\n",
    "from sklearn import preprocessing\n",
    "import statsmodels.api as sm\n",
    "from statsmodels.tsa.api import ExponentialSmoothing, SimpleExpSmoothing, Holt\n",
    "from sklearn.metrics import classification_report, accuracy_score\n",
    "from sklearn.ensemble import IsolationForest\n",
    "from sklearn.neighbors import LocalOutlierFactor\n",
    "\n",
    "import datetime\n",
    "import seaborn as sns\n",
    "import random\n",
    "import glob, os\n",
    "\n",
    "import warnings\n",
    "warnings.filterwarnings(\"ignore\")"
   ]
  },
  {
   "cell_type": "markdown",
   "metadata": {},
   "source": [
    "Three different senors caught the speed values from multiple vehicles. These values were loaded into the dataframes. Then these values were concatenated into one dataframe. This dataframe was studied. In the dataset, there were 6122 records and two columns, that is, timestamp and speed value.\n"
   ]
  },
  {
   "cell_type": "code",
   "execution_count": 162,
   "metadata": {},
   "outputs": [
    {
     "data": {
      "text/plain": [
       "(6122, 2)"
      ]
     },
     "execution_count": 162,
     "metadata": {},
     "output_type": "execute_result"
    }
   ],
   "source": [
    "\n",
    "df_sensor1 = pd.read_csv('../data/raw/speed_6005.csv')\n",
    "df_sensor2 = pd.read_csv('../data/raw/speed_7578.csv')\n",
    "df_sensor3 = pd.read_csv('../data/raw/speed_t4013.csv')\n",
    "\n",
    "df_speed = pd.concat([df_sensor1,df_sensor2,df_sensor3])\n",
    "df_speed.shape"
   ]
  },
  {
   "cell_type": "markdown",
   "metadata": {},
   "source": [
    "Top 5 values from the dataframe are below. It shows the spee values captured at different times."
   ]
  },
  {
   "cell_type": "code",
   "execution_count": 163,
   "metadata": {},
   "outputs": [
    {
     "data": {
      "text/html": [
       "<div>\n",
       "<style scoped>\n",
       "    .dataframe tbody tr th:only-of-type {\n",
       "        vertical-align: middle;\n",
       "    }\n",
       "\n",
       "    .dataframe tbody tr th {\n",
       "        vertical-align: top;\n",
       "    }\n",
       "\n",
       "    .dataframe thead th {\n",
       "        text-align: right;\n",
       "    }\n",
       "</style>\n",
       "<table border=\"1\" class=\"dataframe\">\n",
       "  <thead>\n",
       "    <tr style=\"text-align: right;\">\n",
       "      <th></th>\n",
       "      <th>timestamp</th>\n",
       "      <th>value</th>\n",
       "    </tr>\n",
       "  </thead>\n",
       "  <tbody>\n",
       "    <tr>\n",
       "      <th>0</th>\n",
       "      <td>2015-08-31 18:22:00</td>\n",
       "      <td>90</td>\n",
       "    </tr>\n",
       "    <tr>\n",
       "      <th>1</th>\n",
       "      <td>2015-08-31 18:32:00</td>\n",
       "      <td>80</td>\n",
       "    </tr>\n",
       "    <tr>\n",
       "      <th>2</th>\n",
       "      <td>2015-08-31 18:57:00</td>\n",
       "      <td>84</td>\n",
       "    </tr>\n",
       "    <tr>\n",
       "      <th>3</th>\n",
       "      <td>2015-08-31 19:07:00</td>\n",
       "      <td>94</td>\n",
       "    </tr>\n",
       "    <tr>\n",
       "      <th>4</th>\n",
       "      <td>2015-08-31 19:12:00</td>\n",
       "      <td>90</td>\n",
       "    </tr>\n",
       "  </tbody>\n",
       "</table>\n",
       "</div>"
      ],
      "text/plain": [
       "             timestamp  value\n",
       "0  2015-08-31 18:22:00     90\n",
       "1  2015-08-31 18:32:00     80\n",
       "2  2015-08-31 18:57:00     84\n",
       "3  2015-08-31 19:07:00     94\n",
       "4  2015-08-31 19:12:00     90"
      ]
     },
     "execution_count": 163,
     "metadata": {},
     "output_type": "execute_result"
    }
   ],
   "source": [
    "df_speed.head()"
   ]
  },
  {
   "cell_type": "markdown",
   "metadata": {},
   "source": [
    "Cleaning the data by first replacing the missing values by NaN and then by dropping rows that contain Nan values. Then on finding the count of missing values, none were found."
   ]
  },
  {
   "cell_type": "code",
   "execution_count": 164,
   "metadata": {},
   "outputs": [],
   "source": [
    "\n",
    "df_speed = df_speed.replace('?', np.nan)"
   ]
  },
  {
   "cell_type": "code",
   "execution_count": 165,
   "metadata": {},
   "outputs": [],
   "source": [
    "df_speed = df_speed.dropna()"
   ]
  },
  {
   "cell_type": "code",
   "execution_count": 166,
   "metadata": {},
   "outputs": [
    {
     "data": {
      "text/plain": [
       "timestamp    0\n",
       "value        0\n",
       "dtype: int64"
      ]
     },
     "execution_count": 166,
     "metadata": {},
     "output_type": "execute_result"
    }
   ],
   "source": [
    "df_speed[df_speed.isnull().any(axis=1)].count()"
   ]
  },
  {
   "cell_type": "markdown",
   "metadata": {},
   "source": [
    "Printing the description of the data below. Value count is 6122, mean speeding value is ~71 mph. Maximum value found was 109 mph and lowest value was 1 mph."
   ]
  },
  {
   "cell_type": "code",
   "execution_count": 167,
   "metadata": {},
   "outputs": [
    {
     "name": "stdout",
     "output_type": "stream",
     "text": [
      "             value\n",
      "count  6122.000000\n",
      "mean     70.887128\n",
      "std      11.912310\n",
      "min       1.000000\n",
      "25%      63.000000\n",
      "50%      67.000000\n",
      "75%      80.000000\n",
      "max     109.000000\n"
     ]
    }
   ],
   "source": [
    "print(df_speed.describe())"
   ]
  },
  {
   "cell_type": "markdown",
   "metadata": {},
   "source": [
    "To group the values as anomaly or normal, the assumption was made that if speed is greater than 80, it is considered an anomaly (speeding case) and if spped is less than or equal to 80, it is considered a normal case.\n",
    "\n",
    "A group column was created in the dataframe to group normal cases and to group anomaly cases. Group column was assigned 0 for normal cases and 1 for anomalies.\n"
   ]
  },
  {
   "cell_type": "code",
   "execution_count": 168,
   "metadata": {},
   "outputs": [],
   "source": [
    "df_speed['group'] = df_speed['value']\n",
    "df_speed.loc[df_speed['value'] >80, 'group'] = 1\n",
    "df_speed.loc[df_speed['value'] <=80, 'group'] = 0"
   ]
  },
  {
   "cell_type": "code",
   "execution_count": 169,
   "metadata": {},
   "outputs": [
    {
     "data": {
      "text/html": [
       "<div>\n",
       "<style scoped>\n",
       "    .dataframe tbody tr th:only-of-type {\n",
       "        vertical-align: middle;\n",
       "    }\n",
       "\n",
       "    .dataframe tbody tr th {\n",
       "        vertical-align: top;\n",
       "    }\n",
       "\n",
       "    .dataframe thead th {\n",
       "        text-align: right;\n",
       "    }\n",
       "</style>\n",
       "<table border=\"1\" class=\"dataframe\">\n",
       "  <thead>\n",
       "    <tr style=\"text-align: right;\">\n",
       "      <th></th>\n",
       "      <th>timestamp</th>\n",
       "      <th>value</th>\n",
       "      <th>group</th>\n",
       "    </tr>\n",
       "  </thead>\n",
       "  <tbody>\n",
       "    <tr>\n",
       "      <th>0</th>\n",
       "      <td>2015-08-31 18:22:00</td>\n",
       "      <td>90</td>\n",
       "      <td>1</td>\n",
       "    </tr>\n",
       "    <tr>\n",
       "      <th>1</th>\n",
       "      <td>2015-08-31 18:32:00</td>\n",
       "      <td>80</td>\n",
       "      <td>0</td>\n",
       "    </tr>\n",
       "    <tr>\n",
       "      <th>2</th>\n",
       "      <td>2015-08-31 18:57:00</td>\n",
       "      <td>84</td>\n",
       "      <td>1</td>\n",
       "    </tr>\n",
       "    <tr>\n",
       "      <th>3</th>\n",
       "      <td>2015-08-31 19:07:00</td>\n",
       "      <td>94</td>\n",
       "      <td>1</td>\n",
       "    </tr>\n",
       "    <tr>\n",
       "      <th>4</th>\n",
       "      <td>2015-08-31 19:12:00</td>\n",
       "      <td>90</td>\n",
       "      <td>1</td>\n",
       "    </tr>\n",
       "  </tbody>\n",
       "</table>\n",
       "</div>"
      ],
      "text/plain": [
       "             timestamp  value  group\n",
       "0  2015-08-31 18:22:00     90      1\n",
       "1  2015-08-31 18:32:00     80      0\n",
       "2  2015-08-31 18:57:00     84      1\n",
       "3  2015-08-31 19:07:00     94      1\n",
       "4  2015-08-31 19:12:00     90      1"
      ]
     },
     "execution_count": 169,
     "metadata": {},
     "output_type": "execute_result"
    }
   ],
   "source": [
    "df_speed.head()"
   ]
  },
  {
   "cell_type": "markdown",
   "metadata": {},
   "source": [
    "Now plotting the histograms of speed values and group values to understand the data.\n",
    "\n",
    "The group histogram shows that there are about 1500 speeding cases (1 values) and about 4500 normal cases (0 values). \n",
    "The histogram for value shows that most of the speed values are clustered between 50 and 100, more specifically, they are around 70.\n"
   ]
  },
  {
   "cell_type": "code",
   "execution_count": 171,
   "metadata": {},
   "outputs": [
    {
     "data": {
      "image/png": "[encoded data removed]",
      "text/plain": [
       "<Figure size 360x360 with 2 Axes>"
      ]
     },
     "metadata": {
      "needs_background": "light"
     },
     "output_type": "display_data"
    }
   ],
   "source": [
    "df_speed.hist(figsize=(5,5))\n",
    "plt.show()"
   ]
  },
  {
   "cell_type": "markdown",
   "metadata": {},
   "source": [
    "Found the number of speeding cases and normal cases. Also, found the anomaly (speeding) fraction to be used later in code. 32% of the cases are found to be the speeding cases.\n"
   ]
  },
  {
   "cell_type": "code",
   "execution_count": 172,
   "metadata": {},
   "outputs": [
    {
     "name": "stdout",
     "output_type": "stream",
     "text": [
      "Speeding cases: 1485\n",
      "Normal cases: 4637\n",
      "Fraction of speeding cases: 0.320250161743\n"
     ]
    }
   ],
   "source": [
    "speeding = df_speed[df_speed['group']==1]\n",
    "normal = df_speed[df_speed['group']==0]\n",
    "\n",
    "speeding_fraction = len(speeding)/float(len(normal))\n",
    "\n",
    "print('Speeding cases: {}'.format(len(speeding)))\n",
    "print('Normal cases: {}'.format(len(normal)))\n",
    "print('Fraction of speeding cases: {}'.format(speeding_fraction))"
   ]
  },
  {
   "cell_type": "markdown",
   "metadata": {},
   "source": [
    "Genarating a list of columns. Remove the coumns that are not needed, for example, remove the timestamp column because it does not add any value to our data and analysis. Also, remove the group column because it has a decision of normal and anomaly caeses. There will be prediction on the target column (group) in the next steps. Labels shouldn't be fed ahead of time since this is unsupervised learning.\n",
    "\n",
    "The variable we are predicting (group) is Y and the speed is X.\n",
    "\n"
   ]
  },
  {
   "cell_type": "code",
   "execution_count": 173,
   "metadata": {},
   "outputs": [
    {
     "name": "stdout",
     "output_type": "stream",
     "text": [
      "((6122, 1), (6122L,))\n"
     ]
    }
   ],
   "source": [
    "fields = df_speed.columns.tolist()\n",
    "fields = [c for c in fields if c not in [\"group\",\"timestamp\"]]\n",
    "\n",
    "X = df_speed[fields]\n",
    "Y = df_speed[\"group\"]\n",
    "\n",
    "print(X.shape, Y.shape)"
   ]
  },
  {
   "cell_type": "markdown",
   "metadata": {},
   "source": [
    "Outlier detection methods from Sklearn are used below. Creating dictionary of classifiers.\n",
    "\n",
    "Local Outlier Factor is an unsupervised outlier detection method. It calculates the anomaly scores of each sample and that is called the local outlier factor. It measures the local deviation of density of a given sample with respect to its neighbors. We calculate anomaly scores based on the neighbors.\n",
    "\n",
    "Isolation Factor isolates the observations by randomly selecting a feature and randomly selecting a split value between the maximum and minimum value of the selected feature."
   ]
  },
  {
   "cell_type": "code",
   "execution_count": 174,
   "metadata": {},
   "outputs": [],
   "source": [
    "\n",
    "dict_classfrs = {\n",
    "    \"Isolation Forest\": IsolationForest(max_samples=len(X),\n",
    "                                       contamination = speeding_fraction,\n",
    "                                       random_state = 1),\n",
    "    \n",
    "    \"Local Outlier Factor\": LocalOutlierFactor(\n",
    "    n_neighbors=20,\n",
    "    contamination = speeding_fraction)    \n",
    "}"
   ]
  },
  {
   "cell_type": "markdown",
   "metadata": {},
   "source": [
    "Next, model fitting is done below and calculation metrics were found."
   ]
  },
  {
   "cell_type": "code",
   "execution_count": 175,
   "metadata": {},
   "outputs": [
    {
     "name": "stdout",
     "output_type": "stream",
     "text": [
      "Local Outlier Factor:\n",
      "number of errors: 1535\n",
      "accuracy score: 0.749264946096\n",
      "              precision    recall  f1-score   support\n",
      "\n",
      "           0       0.76      0.98      0.86      4637\n",
      "           1       0.31      0.03      0.05      1485\n",
      "\n",
      "   micro avg       0.75      0.75      0.75      6122\n",
      "   macro avg       0.54      0.50      0.45      6122\n",
      "weighted avg       0.65      0.75      0.66      6122\n",
      "\n",
      "\n",
      "\n",
      "\n",
      "Isolation Forest:\n",
      "number of errors: 1094\n",
      "accuracy score: 0.821300228683\n",
      "              precision    recall  f1-score   support\n",
      "\n",
      "           0       0.91      0.84      0.88      4637\n",
      "           1       0.61      0.75      0.67      1485\n",
      "\n",
      "   micro avg       0.82      0.82      0.82      6122\n",
      "   macro avg       0.76      0.80      0.77      6122\n",
      "weighted avg       0.84      0.82      0.83      6122\n",
      "\n",
      "\n",
      "\n",
      "\n"
     ]
    }
   ],
   "source": [
    "\n",
    "num_outliers = len(speeding)\n",
    "\n",
    "for i, (classifier_name, classifier) in enumerate(dict_classfrs.items()):\n",
    "    # Tag the outliers\n",
    "    if classifier_name == \"Local Outlier Factor\":\n",
    "        y_pred = classifier.fit_predict(X)\n",
    "        scores_pred = classifier.negative_outlier_factor_\n",
    "    else:\n",
    "        classifier.fit(X)\n",
    "        scores_pred = classifier.decision_function(X)\n",
    "        y_pred = classifier.predict(X)\n",
    "        \n",
    "    # Keep prediction values 0 for normal and 1 for speeding\n",
    "    y_pred[y_pred == 1] = 0\n",
    "    y_pred[y_pred == -1] = 1\n",
    "    \n",
    "    # Find the number of errors in prediction\n",
    "    num_errors = (y_pred != Y).sum()\n",
    "    \n",
    "    # Classification metrics\n",
    "    print('{}:\\n{}: {}'.format(classifier_name, \"number of errors\",num_errors))\n",
    "    print('{}: {}'.format(\"accuracy score\", accuracy_score(Y, y_pred)))\n",
    "    print(classification_report(Y, y_pred))\n",
    "    print(\"\\n\\n\")"
   ]
  },
  {
   "cell_type": "markdown",
   "metadata": {},
   "source": [
    "# Result Description:\n",
    "\n",
    "In Local Outlier Factor, there were total of 1535 errors. The accuracy was 74%. \n",
    "\n",
    "The precision of two groups 0 and 1 was 0.76 and 0.31 respectively. 0.31 is low meaning that very few of speeding cases were actually labeled as speeding cases. Precision and recall values show that the model did not do well in cases of false positives and false negatives.\n",
    "\n",
    "On the other hand, the Isolation Forest did a much better job by looking at the number of errors, accuracy score, and correctly labeling the cases as they are."
   ]
  },
  {
   "cell_type": "code",
   "execution_count": null,
   "metadata": {},
   "outputs": [],
   "source": []
  }
 ],
 "metadata": {
  "kernelspec": {
   "display_name": "Python 2",
   "language": "python",
   "name": "python2"
  },
  "language_info": {
   "codemirror_mode": {
    "name": "ipython",
    "version": 2
   },
   "file_extension": ".py",
   "mimetype": "text/x-python",
   "name": "python",
   "nbconvert_exporter": "python",
   "pygments_lexer": "ipython2",
   "version": "2.7.16"
  }
 },
 "nbformat": 4,
 "nbformat_minor": 2
}
